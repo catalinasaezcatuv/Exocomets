{
 "cells": [
  {
   "cell_type": "markdown",
   "id": "4cbaa9bd",
   "metadata": {},
   "source": [
    "# 0. Installation"
   ]
  },
  {
   "cell_type": "markdown",
   "id": "f941f1b0",
   "metadata": {},
   "source": [
    "Throughout the notebooks we will access the  [ESO TAP service](http://archive.eso.org/tap_obs) using:"
   ]
  },
  {
   "cell_type": "code",
   "execution_count": 1,
   "id": "5a43036c",
   "metadata": {},
   "outputs": [],
   "source": [
    "from pyvo.dal import tap  # Useful for interaction with online astronomical data services, allows querying databases\n",
    "from astropy.coordinates import SkyCoord  # Module for handling astronomical coordinate systems\n",
    "\n",
    "\n",
    "ESO_TAP_OBS = \"http://archive.eso.org/tap_obs\" # For the ESO TAP service\n",
    "tapobs = tap.TAPService(ESO_TAP_OBS) # For the ESO TAP service\n"
   ]
  },
  {
   "cell_type": "markdown",
   "id": "89cf86c9",
   "metadata": {},
   "source": [
    "## Example 0a: Query by coordinate and request the entire result table"
   ]
  },
  {
   "cell_type": "markdown",
   "id": "72ae9af6",
   "metadata": {},
   "source": [
    "In this example, we will define the position of our target using the SESAME name resolver, set a search radius, and perform a cone search to look for datasets that intersect with our defined area. We will be focusing on the star Beta Pictoris."
   ]
  },
  {
   "cell_type": "code",
   "execution_count": 2,
   "id": "8cf9c14e",
   "metadata": {},
   "outputs": [],
   "source": [
    "# Defining the position via SESAME name resolver, and the search radius\n",
    "\n",
    "target = \"Beta Pictoris\"\n",
    "pos = SkyCoord.from_name(target) #Retrieve the coordinates of the target\n",
    "sr = 5/3600. # Define the search radius in degrees, 5 arcseconds for this example\n"
   ]
  },
  {
   "cell_type": "markdown",
   "id": "070c2280",
   "metadata": {},
   "source": [
    "We perform a cone search to look for reduced datasets intersecting a circle of 5 arcseconds around our target, Beta Pictoris. The query is written in ADQL (Astronomical Data Query Language). \n",
    "\n",
    "In this query, we specify:\n",
    "- **Spectral Resolving Power (`em_res_power`)**: Filtering datasets with a resolving power greater than 40000.\n",
    "- **Data Product Type (`dataproduct_type`)**: Filtering for spectral data.\n",
    "- **Spectral Bounds (`em_min` and `em_max`)**: Selecting spectra that cover the vacuum wavelength range expressed in meters.\n",
    "- **Signal to Noise Ratio (`snr`)**: Selecting datasets with SNR greater than 300.\n",
    "- **Instrument Name (`instrument_name`)**: Restricting the search to objects observed by HARPS.\n",
    "- **Top 10 Objects**: Selecting the top 10 objects with the highest SNR.\n",
    "\n",
    "For more information on the ADQL query language, refer to the [IVOA documentation](https://www.ivoa.net/documents/ObsCore/20170509/REC-ObsCore-v1.1-20170509.pdf).\n",
    "\n"
   ]
  },
  {
   "cell_type": "code",
   "execution_count": 3,
   "id": "ad4108de",
   "metadata": {},
   "outputs": [],
   "source": [
    "query = \"\"\"SELECT TOP 10 *\n",
    "        FROM ivoa.ObsCore\n",
    "        WHERE intersects(s_region, circle('', %f, %f, %f))=1\n",
    "        AND em_res_power > 40000\n",
    "        AND dataproduct_type in ('spectrum')\n",
    "        AND em_min < 3933.643e-10 \n",
    "        AND em_max > 3933.683e-10\n",
    "        AND snr > 300\n",
    "        AND instrument_name in ('HARPS')\n",
    "        ORDER BY SNR DESC\n",
    "        \"\"\" % (pos.ra.degree , pos.dec.degree, sr)"
   ]
  },
  {
   "cell_type": "markdown",
   "id": "c3b302d2",
   "metadata": {},
   "source": [
    "Execute the query and retrieve the results."
   ]
  },
  {
   "cell_type": "code",
   "execution_count": 4,
   "id": "6ece9222",
   "metadata": {},
   "outputs": [
    {
     "name": "stdout",
     "output_type": "stream",
     "text": [
      "Num matching datasets: 10\n"
     ]
    }
   ],
   "source": [
    "res = tapobs.search(query=query, maxrec=10000) #Maximum records to return\n",
    "resT=res.to_table()\n",
    "a=len(resT)\n",
    "print(\"Num matching datasets: %d\" % (a))"
   ]
  },
  {
   "cell_type": "markdown",
   "id": "85de42f6",
   "metadata": {},
   "source": [
    "The output has been directly converted into a table. For simplicity, we only display the first 3 rows."
   ]
  },
  {
   "cell_type": "code",
   "execution_count": 5,
   "id": "4a978e25",
   "metadata": {},
   "outputs": [
    {
     "data": {
      "text/html": [
       "<div><i>Table length=3</i>\n",
       "<table id=\"table4555408384\" class=\"table-striped table-bordered table-condensed\">\n",
       "<thead><tr><th>abmaglim</th><th>access_estsize</th><th>access_format</th><th>access_url</th><th>bib_reference</th><th>calib_level</th><th>dataproduct_subtype</th><th>dataproduct_type</th><th>dp_id</th><th>em_max</th><th>em_min</th><th>em_res_power</th><th>em_xel</th><th>facility_name</th><th>filter</th><th>gal_lat</th><th>gal_lon</th><th>instrument_name</th><th>last_mod_date</th><th>multi_ob</th><th>n_obs</th><th>o_calib_status</th><th>o_ucd</th><th>obs_collection</th><th>obs_creator_did</th><th>obs_creator_name</th><th>obs_id</th><th>obs_publisher_did</th><th>obs_release_date</th><th>obs_title</th><th>obstech</th><th>p3orig</th><th>pol_states</th><th>pol_xel</th><th>preview_html</th><th>proposal_id</th><th>publication_date</th><th>release_description</th><th>s_dec</th><th>s_fov</th><th>s_pixel_scale</th><th>s_ra</th><th>s_region</th><th>s_resolution</th><th>s_xel1</th><th>s_xel2</th><th>snr</th><th>strehl</th><th>t_exptime</th><th>t_max</th><th>t_min</th><th>t_resolution</th><th>t_xel</th><th>target_name</th></tr></thead>\n",
       "<thead><tr><th>mag</th><th>kbyte</th><th></th><th></th><th></th><th></th><th></th><th></th><th></th><th>m</th><th>m</th><th></th><th></th><th></th><th></th><th>deg</th><th>deg</th><th></th><th></th><th></th><th></th><th></th><th></th><th></th><th></th><th></th><th></th><th></th><th></th><th></th><th></th><th></th><th></th><th></th><th></th><th></th><th></th><th></th><th>deg</th><th>deg</th><th>arcsec</th><th>deg</th><th></th><th>arcsec</th><th></th><th></th><th></th><th></th><th>s</th><th>d</th><th>d</th><th>s</th><th></th><th></th></tr></thead>\n",
       "<thead><tr><th>float64</th><th>int64</th><th>object</th><th>object</th><th>object</th><th>int32</th><th>object</th><th>object</th><th>object</th><th>float64</th><th>float64</th><th>float64</th><th>int64</th><th>object</th><th>object</th><th>float64</th><th>float64</th><th>object</th><th>object</th><th>object</th><th>int32</th><th>object</th><th>object</th><th>object</th><th>object</th><th>object</th><th>object</th><th>object</th><th>object</th><th>object</th><th>object</th><th>object</th><th>object</th><th>int64</th><th>object</th><th>object</th><th>object</th><th>object</th><th>float64</th><th>float64</th><th>float64</th><th>float64</th><th>object</th><th>float64</th><th>int64</th><th>int64</th><th>float64</th><th>float64</th><th>float64</th><th>float64</th><th>float64</th><th>float64</th><th>int64</th><th>object</th></tr></thead>\n",
       "<tr><td>--</td><td>5264</td><td>application/x-votable+xml;content=datalink</td><td>http://archive.eso.org/datalink/links?ID=ivo://eso.org/ID?ADP.2018-03-30T01:06:45.250</td><td></td><td>2</td><td></td><td>spectrum</td><td>ADP.2018-03-30T01:06:45.250</td><td>6.91263e-07</td><td>3.7817399999999996e-07</td><td>115000.0</td><td>313090</td><td>ESO-3.6</td><td></td><td>-30.612309</td><td>258.363146</td><td>HARPS</td><td>2020-10-13T14:00:00.023Z</td><td>S</td><td>1</td><td>uncalibrated</td><td></td><td>HARPS</td><td>ivo://eso.org/origfile?HARPS.2018-03-28T23:31:55.515_s1d_A_DRS_HARPS_3.8_ESOSDP.fits</td><td>LAGRANGE, A.-M.</td><td>16</td><td>ivo://eso.org/ID?ADP.2018-03-30T01:06:45.250</td><td>2019-03-28T23:41:31.710Z</td><td>HD039060_HARPS.2018-03-28T23:31:55.515_s1d_A</td><td>ECHELLE</td><td>IDP</td><td></td><td>--</td><td>https://archive.eso.org/dataset/ADP.2018-03-30T01:06:45.250</td><td>098.C-0739(A)</td><td>2018-03-30T01:13:47Z</td><td>http://www.eso.org/rm/api/v1/public/releaseDescriptions/72</td><td>-51.06595</td><td>0.00027777</td><td>--</td><td>86.820303</td><td>POSITION J2000 86.820303 -51.06595</td><td>--</td><td>--</td><td>--</td><td>599.3</td><td>--</td><td>290.688</td><td>58205.9838681</td><td>58205.98050365</td><td>290.68848</td><td>--</td><td>HD039060</td></tr>\n",
       "<tr><td>--</td><td>5264</td><td>application/x-votable+xml;content=datalink</td><td>http://archive.eso.org/datalink/links?ID=ivo://eso.org/ID?ADP.2019-01-22T01:15:12.551</td><td></td><td>2</td><td></td><td>spectrum</td><td>ADP.2019-01-22T01:15:12.551</td><td>6.9127e-07</td><td>3.78178e-07</td><td>115000.0</td><td>313093</td><td>ESO-3.6</td><td></td><td>-30.612321</td><td>258.362396</td><td>HARPS</td><td>2020-10-13T13:59:38.160Z</td><td>S</td><td>1</td><td>uncalibrated</td><td></td><td>HARPS</td><td>ivo://eso.org/origfile?HARPS.2019-01-20T03:44:24.669_s1d_A_DRS_HARPS_3.8_ESOSDP.fits</td><td>DE MEDEIROS, JOSÃ© RENAN</td><td>7</td><td>ivo://eso.org/ID?ADP.2019-01-22T01:15:12.551</td><td>2020-01-21T11:25:58.927Z</td><td>HD39060_HARPS.2019-01-20T03:44:24.669_s1d_A</td><td>ECHELLE</td><td>IDP</td><td></td><td>--</td><td>https://archive.eso.org/dataset/ADP.2019-01-22T01:15:12.551</td><td>0102.C-0584(A)</td><td>2019-01-23T13:21:10Z</td><td>http://www.eso.org/rm/api/v1/public/releaseDescriptions/72</td><td>-51.06531</td><td>0.00027777</td><td>--</td><td>86.820169</td><td>POSITION J2000 86.820169 -51.06531</td><td>--</td><td>--</td><td>--</td><td>588.7</td><td>--</td><td>899.998</td><td>58503.16625773</td><td>58503.15584108</td><td>899.99856</td><td>--</td><td>HD39060</td></tr>\n",
       "<tr><td>--</td><td>5264</td><td>application/x-votable+xml;content=datalink</td><td>http://archive.eso.org/datalink/links?ID=ivo://eso.org/ID?ADP.2017-10-14T01:06:15.813</td><td></td><td>2</td><td></td><td>spectrum</td><td>ADP.2017-10-14T01:06:15.813</td><td>6.91298e-07</td><td>3.7819200000000003e-07</td><td>115000.0</td><td>313107</td><td>ESO-3.6</td><td></td><td>-30.611519</td><td>258.364826</td><td>HARPS</td><td>2020-10-13T13:59:32.410Z</td><td>S</td><td>1</td><td>uncalibrated</td><td></td><td>HARPS</td><td>ivo://eso.org/origfile?HARPS.2017-10-13T05:36:49.265_s1d_A_DRS_HARPS_3.8_ESOSDP.fits</td><td>LAGRANGE, A.-M.</td><td>9</td><td>ivo://eso.org/ID?ADP.2017-10-14T01:06:15.813</td><td>2018-10-13T05:46:30.813Z</td><td>HD039060_HARPS.2017-10-13T05:36:49.265_s1d_A</td><td>ECHELLE</td><td>IDP</td><td></td><td>--</td><td>https://archive.eso.org/dataset/ADP.2017-10-14T01:06:15.813</td><td>098.C-0739(A)</td><td>2017-10-14T01:13:20Z</td><td>http://www.eso.org/rm/api/v1/public/releaseDescriptions/72</td><td>-51.0673</td><td>0.00027777</td><td>--</td><td>86.821806</td><td>POSITION J2000 86.821806 -51.0673</td><td>--</td><td>--</td><td>--</td><td>474.4</td><td>--</td><td>187.858</td><td>58039.23607782</td><td>58039.23390353</td><td>187.858656</td><td>--</td><td>HD039060</td></tr>\n",
       "</table></div>"
      ],
      "text/plain": [
       "<Table length=3>\n",
       "abmaglim access_estsize ... t_xel target_name\n",
       "  mag        kbyte      ...                  \n",
       "float64      int64      ... int64    object  \n",
       "-------- -------------- ... ----- -----------\n",
       "      --           5264 ...    --    HD039060\n",
       "      --           5264 ...    --     HD39060\n",
       "      --           5264 ...    --    HD039060"
      ]
     },
     "execution_count": 5,
     "metadata": {},
     "output_type": "execute_result"
    }
   ],
   "source": [
    "resT[:3]"
   ]
  },
  {
   "cell_type": "markdown",
   "id": "557fc719",
   "metadata": {},
   "source": [
    "## Handling FITS Files \n",
    "\n",
    "We define functions to handle the retrieval and storage of FITS files from HTTP responses."
   ]
  },
  {
   "cell_type": "code",
   "execution_count": 6,
   "id": "55eb0e04",
   "metadata": {},
   "outputs": [],
   "source": [
    "import os  # Library for interacting with the operating system\n",
    "import cgi  # Library for parsing headers\n",
    "import pandas as pd  # Library for data manipulation and analysis\n",
    "from fastparquet import write  # Useful for writing Parquet files - a columnar storage format\n",
    "\n",
    "def getDispositionFilename( response ): #get the filename from the header\n",
    "    \"\"\"Get the filename from the Content-Disposition in the response's http header\"\"\"\n",
    "    contentdisposition = response.headers.get('Content-Disposition')\n",
    "    if contentdisposition == None:\n",
    "        return None\n",
    "    value, params = cgi.parse_header(contentdisposition)\n",
    "    filename = params[\"filename\"]\n",
    "    return filename\n",
    "\n",
    "def writeFile( response, folder_path ): #write content of file on disk\n",
    "    \"\"\"Write on disk the retrieved file specifying a folder path\"\"\"\n",
    "    if response.status_code == 200:\n",
    "        # The ESO filename can be found in the response header\n",
    "        filename = getDispositionFilename( response )\n",
    "        # Let's write on disk the downloaded FITS spectrum using the ESO filename:\n",
    "        full_path = os.path.join(folder_path, filename)\n",
    "        with open(full_path, 'wb') as f:\n",
    "            f.write(response.content)\n",
    "        return filename "
   ]
  },
  {
   "cell_type": "markdown",
   "id": "a2c2b40f",
   "metadata": {},
   "source": [
    "We download FITS files from the [ESO Data Portal](https://dataportal.eso.org/dataportal_new/file/) using a specified base URL and save them to a designated folder. The process involves iterating through the query results to download and store each file on disk. For this specific analysis, we focus on selecting files that fall within a defined wavelength range (`wave_range`) to investigate a region of interest, particularly around the Ca II K line."
   ]
  },
  {
   "cell_type": "code",
   "execution_count": 7,
   "id": "81daa5c4",
   "metadata": {},
   "outputs": [
    {
     "name": "stdout",
     "output_type": "stream",
     "text": [
      "The folder already exists\n"
     ]
    }
   ],
   "source": [
    "import requests # Library for making HTTP requests\n",
    "\n",
    "beg='https://dataportal.eso.org/dataportal_new/' #Base URL for downloading files from the ESO data portal\n",
    "parent_dir='/Users/usuario/Desktop/ESRP2024/Project/notebooks/' # Specify the parent directory; update this to match your own directory structure\n",
    "\n",
    "wave_range=[350,450] #range of wavelengths in nm \n",
    "\n",
    "# Create the target folder path based on the wavelength range to save the files\n",
    "folder_path = os.path.join(parent_dir, 'TARGET_'+str(wave_range[0])+'-'+str(wave_range[1]))\n",
    "\n",
    "# Check if the folder already exists, and create it if it does not\n",
    "if os.path.exists(folder_path):\n",
    "    print('The folder already exists')\n",
    "else:\n",
    "    os.mkdir(folder_path)\n",
    "    print('Folder successfully created')"
   ]
  },
  {
   "cell_type": "code",
   "execution_count": 8,
   "id": "fe65d06a",
   "metadata": {},
   "outputs": [
    {
     "name": "stdout",
     "output_type": "stream",
     "text": [
      "0 ADP.2018-03-30T01:06:45.250_TARGET_350-450.fits - Successfully saved.\n",
      "1 ADP.2019-01-22T01:15:12.551_TARGET_350-450.fits - Successfully saved.\n",
      "2 ADP.2017-10-14T01:06:15.813_TARGET_350-450.fits - Successfully saved.\n",
      "3 ADP.2014-09-23T11:05:49.213_TARGET_350-450.fits - Successfully saved.\n",
      "4 ADP.2014-09-23T11:03:43.373_TARGET_350-450.fits - Successfully saved.\n",
      "5 ADP.2014-09-23T11:03:23.373_TARGET_350-450.fits - Successfully saved.\n",
      "6 ADP.2014-09-23T11:02:20.043_TARGET_350-450.fits - Successfully saved.\n",
      "7 ADP.2017-10-14T01:06:15.799_TARGET_350-450.fits - Successfully saved.\n",
      "8 ADP.2017-10-14T01:06:15.805_TARGET_350-450.fits - Successfully saved.\n",
      "9 ADP.2014-09-23T11:02:25.960_TARGET_350-450.fits - Successfully saved.\n"
     ]
    }
   ],
   "source": [
    "for k in range(a): # Iterate through the number of matching datasets\n",
    "    \n",
    "    # Construct the full URL for the file download\n",
    "    response=requests.get(beg+'soda/sync?ID='+resT[k]['dp_id']+'&PREFIX='+str(wave_range[0])+'-'+str(wave_range[1])+'&BAND='+str(wave_range[0])+'e-9+'+str(wave_range[1])+'e-9')\n",
    "    filename = writeFile(response,folder_path) # Write the file to disk and get the filename\n",
    "    \n",
    "    if str(filename)!='None':\n",
    "        # Print the index and filename if the file was successfully saved\n",
    "        print(\"%i %s\" % (k,filename + ' - Successfully saved.')) \n",
    "    else:\n",
    "        # Print an error message if the file could not be retrieved\n",
    "        print(f\"{k}: {filename} - Could not get file (status: {response.status_code})\")"
   ]
  },
  {
   "cell_type": "markdown",
   "id": "641aac44",
   "metadata": {},
   "source": [
    "We check if the FITS files from the query results already exist in the specified folder on our local machine."
   ]
  },
  {
   "cell_type": "code",
   "execution_count": 9,
   "id": "f73d065f",
   "metadata": {},
   "outputs": [
    {
     "name": "stdout",
     "output_type": "stream",
     "text": [
      "0 ADP.2018-03-30T01:06:45.250  - Correctly founded\n",
      "1 ADP.2019-01-22T01:15:12.551  - Correctly founded\n",
      "2 ADP.2017-10-14T01:06:15.813  - Correctly founded\n",
      "3 ADP.2014-09-23T11:05:49.213  - Correctly founded\n",
      "4 ADP.2014-09-23T11:03:43.373  - Correctly founded\n",
      "5 ADP.2014-09-23T11:03:23.373  - Correctly founded\n",
      "6 ADP.2014-09-23T11:02:20.043  - Correctly founded\n",
      "7 ADP.2017-10-14T01:06:15.799  - Correctly founded\n",
      "8 ADP.2017-10-14T01:06:15.805  - Correctly founded\n",
      "9 ADP.2014-09-23T11:02:25.960  - Correctly founded\n"
     ]
    }
   ],
   "source": [
    "for i in range(a):  # Iterate through the number of matching datasets\n",
    "    # Construct the full path to check if the file already exists\n",
    "    file_path = os.path.join(folder_path, resT[i]['dp_id']+'_TARGET_'+str(wave_range[0])+'-'+str(wave_range[1])+'.fits')\n",
    "    \n",
    "    if os.path.exists(file_path):\n",
    "        # Print a message if the file is already found\n",
    "        print(\"%i %s %s\" % (i, resT[i]['dp_id'], ' - Correctly founded'))\n",
    "    else:\n",
    "        # Print a message if the file is not found\n",
    "        print(\"%i %s %s\" % (i, resT[i]['dp_id'], ' - Not founded'))\n",
    "        "
   ]
  },
  {
   "cell_type": "markdown",
   "id": "888619d9",
   "metadata": {},
   "source": [
    "# 1. Example: Obtaining Spectra"
   ]
  },
  {
   "cell_type": "markdown",
   "id": "ad542b27",
   "metadata": {},
   "source": [
    "## Function: Spectra_parameters\n",
    "\n",
    "The `Spectra_parameters` function calculates spectral parameters based on a reference wavelength (`ref`), resolution (`R`), and a variable range (`var`). The function constructs the wavelength array, calculates the corresponding velocities, and saves the velocity data to a CSV file.\n"
   ]
  },
  {
   "cell_type": "markdown",
   "id": "d131c6bf",
   "metadata": {},
   "source": [
    "We define a function to calculate spectral parameters based on a reference wavelength, resolution, and a variable range around the reference."
   ]
  },
  {
   "cell_type": "code",
   "execution_count": 10,
   "id": "2afff04a",
   "metadata": {},
   "outputs": [],
   "source": [
    "import coronagraph as cg  # Module for simulating the performance of coronagraphs\n",
    "\n",
    "c= 299792458*1.e-3 # Speed of light in km/s\n",
    "def Spectra_parameters(ref,R,var):\n",
    "    \"\"\"Calculate spectral parameters based on reference wavelength, resolution, and variable range\"\"\"\n",
    "    # Define the wavelength range around the reference\n",
    "    lammin = ref-var\n",
    "    lammax = ref+var\n",
    "    \n",
    "    # Construct the wavelength array and wavelength step size using the coronagraph module\n",
    "    wl,dwl = cg.noise_routines.construct_lam(lammin,lammax,R)\n",
    "    velocity=c*((wl-ref)/wl) # Calculate the velocity for each wavelength\n",
    "    vel=pd.DataFrame(data=velocity,columns=['Velocity']) # Create a DataFrame with the velocities\n",
    "    vel.to_csv('velocity.csv') #Save the velocity data to a CSV file\n",
    "    return wl,dwl,velocity,vel,lammin,lammax"
   ]
  },
  {
   "cell_type": "markdown",
   "id": "a9ea6db5",
   "metadata": {},
   "source": [
    "### Calculating Spectral Parameters\n",
    "\n",
    "We can now use the `Spectra_parameters` function to calculate spectral parameters with a given reference wavelength, resolution, and variable range.\n"
   ]
  },
  {
   "cell_type": "code",
   "execution_count": 11,
   "id": "16624710",
   "metadata": {},
   "outputs": [],
   "source": [
    "ref = 3933.7 # Reference wavelength CaII K in the air expressed in Amstrongs\n",
    "R = 40000 # Resolution\n",
    "var = 20 # Variable range around the reference wavelength in meters\n",
    "\n",
    "#Calculate spectral parameters\n",
    "\n",
    "wl,dwl,velocity,vel,lammin,lammax=Spectra_parameters(ref,R,var)"
   ]
  },
  {
   "cell_type": "markdown",
   "id": "fd79a47f",
   "metadata": {},
   "source": [
    "### Example: Processing FITS Files and Normalizing Flux\n"
   ]
  },
  {
   "cell_type": "markdown",
   "id": "df450891",
   "metadata": {},
   "source": [
    "In this section, we iterate through the list of previously downloaded FITS files, verifying their existence and processing them if they are found. For each file, we open it, extract the spectral data, normalize the flux, calculate the velocity, and plot the results. The resulting plot overlays all the individual spectra, allowing for easy comparison. We assume that the spectral data is stored in extension 1 of each FITS file. We store the processed data in a DataFrame for further analysis. Additionally, we keep track of the observation dates for each file in another DataFrame."
   ]
  },
  {
   "cell_type": "code",
   "execution_count": 12,
   "id": "8cfc9f7b",
   "metadata": {},
   "outputs": [
    {
     "data": {
      "image/png": "[encoded data removed]",
      "text/plain": [
       "<Figure size 432x288 with 1 Axes>"
      ]
     },
     "metadata": {
      "needs_background": "light"
     },
     "output_type": "display_data"
    }
   ],
   "source": [
    "from astropy.io import fits as pyfits  # Module for reading and writing FITS files\n",
    "import numpy as np  # Library for advanced numerical operations\n",
    "import matplotlib.pyplot as plt  # Library for creating static, animated, and interactive visualizations\n",
    "\n",
    "for i in range(a):\n",
    "    # Construct the full path to the FITS file\n",
    "    file_name=folder_path+'/'+resT[i]['dp_id']+'_TARGET_'+str(wave_range[0])+'-'+str(wave_range[1])+'.fits'\n",
    "\n",
    "    # Check if the FITS file exists\n",
    "    if os.path.exists(file_name): \n",
    "        hdulist = pyfits.open(file_name) # Open the FITS file\n",
    "        scidata = hdulist[1].data # Bintable extension\n",
    "        wave = scidata[0][0] # Wavelength data\n",
    "        flux = scidata[0][1] # Flux data\n",
    "        contw=[lammin,lammax]\n",
    "        contf= flux[np.logical_and(wave > contw[0], wave < contw[1])] #Select fluxes within the wavelength range\n",
    "        natwav=wave[np.logical_and(wave > contw[0], wave < contw[1])] # Select wavelengths within the range\n",
    "        natf=contf/np.percentile(contf,95) # Normalize the flux\n",
    "        flr = cg.downbin_spec(natf, natwav, wl, dlam=dwl) # Downsample the spectrum\n",
    "        \n",
    "        \" Plot the normalized flux against wavelength \"\n",
    "        plt.plot(velocity,flr,c='grey',alpha=0.5)\n",
    "        plt.xlabel('Wavelength[A]')\n",
    "        plt.ylabel('Normalized Flux')\n",
    "        plt.title('CaII K')\n",
    "        \n",
    "        # For subsequent iterations (i > 0), add the new flux data to the existing DataFrame df.\n",
    "        if i==0:\n",
    "            # If this is the first iteration (i == 0), create a new DataFrame df to store the flux data.\n",
    "            df=pd.DataFrame(data=flr, columns=[resT[i]['dp_id']])\n",
    "            # Create another DataFrame df2 to store the observation date (MJD) of the file.\n",
    "            df2=pd.DataFrame(data=[[resT[i]['dp_id'],hdulist[0].header['MJD-OBS']]],columns=['dp_id','MJD'])\n",
    "       \n",
    "        \n",
    "        else:\n",
    "            # For subsequent iterations (i > 0), add the new flux data to the existing DataFrame df.\n",
    "            df[resT[i]['dp_id']]=flr\n",
    "            \n",
    "            # Add the new observation date to the existing DataFrame df2.\n",
    "            df2.loc[i]=[resT[i]['dp_id'],hdulist[0].header['MJD-OBS']]\n",
    "\n",
    "    # Print a message if the file is not found\n",
    "    else:\n",
    "        print(f'File not found: {file_name}')"
   ]
  },
  {
   "cell_type": "markdown",
   "id": "ee88dd5c",
   "metadata": {},
   "source": [
    "We save the processed data into CSV and Parquet files for future use. We then read these files back into DataFrames to ensure the data is correctly saved and can be reloaded. We also handle the velocity data separately."
   ]
  },
  {
   "cell_type": "code",
   "execution_count": 13,
   "id": "566411d3",
   "metadata": {},
   "outputs": [],
   "source": [
    "df2.to_csv('ID-MJD.csv') # Save the df2 DataFrame to a CSV file\n",
    "write('betaPicR-WST.parq', df) # Write the df DataFrame to a Parquet file\n",
    "df2=pd.read_csv('ID-MJD.csv') # Read the 'ID-MJD.csv' file back into a DataFrame \n",
    "\n",
    "df=pd.read_parquet('betaPicR-WST.parq') # Read the parquet file back into a DataFrame \n",
    "\n",
    "dfvel=pd.read_csv('velocity.csv') # Read the 'velocity.csv' file into a DataFrame named dfvel\n",
    "velocity=dfvel['Velocity'].values # Extract the 'Velocity' column from the dfvel DataFrame as an array"
   ]
  },
  {
   "cell_type": "markdown",
   "id": "522bc8bc",
   "metadata": {},
   "source": [
    "# Plot Spectra"
   ]
  },
  {
   "cell_type": "markdown",
   "id": "5a89e5e6",
   "metadata": {},
   "source": [
    "We create a static plot of the normalized flux against velocity for all the spectra in our dataset. We overlay individual spectra in grey and plot the mean spectrum in red for better visualization. "
   ]
  },
  {
   "cell_type": "code",
   "execution_count": 14,
   "id": "c910440d",
   "metadata": {},
   "outputs": [
    {
     "data": {
      "image/png": "[encoded data removed]",
      "text/plain": [
       "<Figure size 432x288 with 1 Axes>"
      ]
     },
     "metadata": {
      "needs_background": "light"
     },
     "output_type": "display_data"
    },
    {
     "data": {
      "text/plain": [
       "<Figure size 432x288 with 0 Axes>"
      ]
     },
     "metadata": {},
     "output_type": "display_data"
    }
   ],
   "source": [
    "from matplotlib.animation import FuncAnimation, PillowWriter  # Libraries for creating animations\n",
    "\n",
    "# Loop through each spectrum in the DataFrame df2\n",
    "for i in range(df2.shape[0]):\n",
    "    # Plot the normalized flux against velocity for each individual spectrum in grey with some transparency\n",
    "    plt.plot(velocity,df[df2['dp_id'][i]].values,c='grey',alpha=0.4)\n",
    "\n",
    "# Plot the mean of all spectra in red with a slightly thicker line and reduced transparency to highlight it\n",
    "plt.plot(velocity,df.mean(axis=1).values,lw=1,c='red',alpha=0.6)\n",
    "plt.xlabel('Velocity (km/s)')\n",
    "plt.ylabel('Norm Flux')\n",
    "plt.title('CaII K')\n",
    "plt.show()\n",
    "plt.savefig(folder_path+'/Static_'+target.replace(\" \", \"\")+'.png', dpi=300,transparent=True)"
   ]
  },
  {
   "cell_type": "markdown",
   "id": "4d86134e",
   "metadata": {},
   "source": [
    " # Animation for Plotting Spectra"
   ]
  },
  {
   "cell_type": "markdown",
   "id": "d95b0953",
   "metadata": {},
   "source": [
    "We create an animated GIF showing cumulative data plotted over time."
   ]
  },
  {
   "cell_type": "code",
   "execution_count": 15,
   "id": "92d91ab2",
   "metadata": {},
   "outputs": [
    {
     "data": {
      "image/png": "[encoded data removed]",
      "text/plain": [
       "<Figure size 432x288 with 1 Axes>"
      ]
     },
     "metadata": {
      "needs_background": "light"
     },
     "output_type": "display_data"
    }
   ],
   "source": [
    "# Create a figure and axis for plotting\n",
    "fig,ax = plt.subplots()\n",
    "nframes=df.shape[1] # Determine the number of frames based on the number of columns in the DataFrame\n",
    "\n",
    "'Cumulative Plot'\n",
    "\n",
    "# Function to animate each frame\n",
    "def animate(i):\n",
    "    # Plot the mean values of the DataFrame as a red line\n",
    "    line, = ax.plot(velocity, df.mean(axis=1).values, color = 'red', lw=1,alpha=0.7)\n",
    "    # Plot the values of the DataFrame for a specific dp_id as a grey line\n",
    "    line2, = ax.plot(velocity, df[df2['dp_id'][i]].values, color = 'grey', alpha=0.3)\n",
    "    return line, line2#, line3, point1, point2, point3,\n",
    "        \n",
    "# Create the animation object\n",
    "ani = FuncAnimation(fig, # The figure to animate\n",
    "                    animate, # The function to call for each frame\n",
    "                    interval=4, # Delay between frames in milliseconds\n",
    "                    blit=True,  # Optimize by only redrawing parts that have changed\n",
    "                    repeat=True, # Repeat the animation indefinitely\n",
    "                    frames=range(nframes), # Number of frames in the animation\n",
    "                    cache_frame_data=False)    \n",
    "ani.save(folder_path+'/Faster_'+target.replace(\" \", \"\")+'.gif', dpi=300, writer=PillowWriter(fps=20))"
   ]
  },
  {
   "cell_type": "code",
   "execution_count": 16,
   "id": "9a4b9919",
   "metadata": {},
   "outputs": [],
   "source": [
    "'Not Cumulative Plot'\n",
    "\n",
    "# Function to animate each frame\n",
    "def animate(i):\n",
    "    ax.clear() # Clear the previous plot to avoid overlap of lines\n",
    "    line, = ax.plot(velocity, df.mean(axis=1).values, color = 'red', lw=1,alpha=0.7)\n",
    "    line2, = ax.plot(velocity, df[df2['dp_id'][i]].values, color = 'grey', alpha=1)\n",
    "    return line, line2\n",
    "        \n",
    "ani = FuncAnimation(fig, animate, interval=4, blit=True, repeat=True, frames=range(nframes),cache_frame_data=False)    \n",
    "ani.save(folder_path+'NonCum_'+target.replace(\" \", \"\")+ \".gif\", dpi=300, writer=PillowWriter(fps=20))\n",
    "\n"
   ]
  },
  {
   "cell_type": "code",
   "execution_count": null,
   "id": "52de6fff",
   "metadata": {},
   "outputs": [],
   "source": []
  }
 ],
 "metadata": {
  "kernelspec": {
   "display_name": "Python 3 (ipykernel)",
   "language": "python",
   "name": "python3"
  },
  "language_info": {
   "codemirror_mode": {
    "name": "ipython",
    "version": 3
   },
   "file_extension": ".py",
   "mimetype": "text/x-python",
   "name": "python",
   "nbconvert_exporter": "python",
   "pygments_lexer": "ipython3",
   "version": "3.8.2"
  }
 },
 "nbformat": 4,
 "nbformat_minor": 5
}
